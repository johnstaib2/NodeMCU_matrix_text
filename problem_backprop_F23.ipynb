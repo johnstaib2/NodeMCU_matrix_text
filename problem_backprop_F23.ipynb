{
  "nbformat": 4,
  "nbformat_minor": 0,
  "metadata": {
    "colab": {
      "provenance": [],
      "include_colab_link": true
    },
    "kernelspec": {
      "name": "python3",
      "display_name": "Python 3"
    },
    "language_info": {
      "name": "python"
    }
  },
  "cells": [
    {
      "cell_type": "markdown",
      "metadata": {
        "id": "view-in-github",
        "colab_type": "text"
      },
      "source": [
        "<a href=\"https://colab.research.google.com/github/johnstaib2/NodeMCU_matrix_text/blob/master/problem_backprop_F23.ipynb\" target=\"_parent\"><img src=\"https://colab.research.google.com/assets/colab-badge.svg\" alt=\"Open In Colab\"/></a>"
      ]
    },
    {
      "cell_type": "markdown",
      "source": [
        "# Assignment 1 – Backprop"
      ],
      "metadata": {
        "id": "Kf49KbBpaJsu"
      }
    },
    {
      "cell_type": "code",
      "source": [
        "#@title Library Imports [do not change]\n",
        "\n",
        "import importlib\n",
        "!git clone https://www.github.com/rycolab/intro-nlp-f23.git\n",
        "utils = importlib.import_module(\"intro-nlp-f23.assignment_1.utils\")\n",
        "\n",
        "import re\n",
        "import random\n",
        "from collections import defaultdict\n",
        "import itertools\n",
        "from abc import ABC, abstractmethod\n",
        "import math"
      ],
      "metadata": {
        "id": "wAhpRJSCgCh4",
        "colab": {
          "base_uri": "https://localhost:8080/"
        },
        "outputId": "716a8cb9-7771-4329-eed2-db9999761b16"
      },
      "execution_count": null,
      "outputs": [
        {
          "output_type": "stream",
          "name": "stdout",
          "text": [
            "fatal: destination path 'intro-nlp-f23' already exists and is not an empty directory.\n"
          ]
        }
      ]
    },
    {
      "cell_type": "code",
      "source": [
        "#@title Select and Parse Math Problems [do not change]\n",
        "\n",
        "#@markdown select math problem\n",
        "\n",
        "math_problem_i = \"0\" #@param [0,1,2,3]\n",
        "math_problem = utils.MATH_PROBLEMS[int(math_problem_i)]\n",
        "print(math_problem)\n",
        "\n",
        "parser = utils.Parser()\n",
        "infix, in_vars = parser.parse(math_problem[\"problem\"], in_vars = math_problem[\"in_vars\"])\n",
        "print(infix, in_vars)"
      ],
      "metadata": {
        "colab": {
          "base_uri": "https://localhost:8080/"
        },
        "id": "awwwql_ii0y0",
        "outputId": "494f0fa1-a6d6-4f3e-f18c-27d280f03f16"
      },
      "execution_count": null,
      "outputs": [
        {
          "output_type": "stream",
          "name": "stdout",
          "text": [
            "{'problem': '(x^2 - 1) * (y+3)', 'in_vars': {'x': 4.0, 'y': 2.0}, 'output': 75.0, 'derivative': {'x': 40.0, 'y': 15.0}}\n",
            "[[['x', '^', 2], '-', 1], '*', ['y', '+', 3]] {'y': 2.0, 'x': 4.0}\n"
          ]
        }
      ]
    },
    {
      "cell_type": "code",
      "source": [
        "from IPython.core.interactiveshell import available_events\n",
        "#@title ToDo1: Building\n",
        "\n",
        "class Builder():\n",
        "\n",
        "    def __init__(self, infix: list, in_vars: dict = {}):\n",
        "        \"\"\"\n",
        "        infix: list of infix notation parse, e.g. [['exp', 2], '-', 3]\n",
        "        in_vars: dict of input variables to ensure they are not used as intermediate or output variables\n",
        "        RETURN: computation graph in a data structure of your choosing\n",
        "        \"\"\"\n",
        "\n",
        "        ## some alphabetical vars to use as intermediate and output variables minus the input vars to avoid duplicates\n",
        "        avail_vars = list(map(chr, range(97, 123))) + list(map(chr, range(945, 969)))\n",
        "        if len(in_vars.keys()) > 0:\n",
        "            avail_vars = set(avail_vars) - set(in_vars)\n",
        "        self.avail_vars = sorted(list(set(avail_vars)), reverse=True)\n",
        "        self.infix = infix\n",
        "        self.graph = Graph()\n",
        "\n",
        "        ## ToDO: implement and set self.graph\n",
        "        #first we need the nodes for the in_variables\n",
        "        for i in in_vars.keys():\n",
        "          self.graph.addKey(i)\n",
        "          ver = Node(i)\n",
        "          self.graph.addVertex(ver)\n",
        "        output_node=self.recursiveBuilder(infix,in_vars)\n",
        "        self.graph.output_node=next((node for node in self.graph.nodes if node.id==output_node),None)\n",
        "\n",
        "\n",
        "    def recursiveBuilder(self,infix,invars):\n",
        "        # first give this entire operation a variable\n",
        "        name=self.avail_vars.pop()\n",
        "        vertex = Node(name)\n",
        "        self.graph.addVertex(vertex)\n",
        "        self.graph.addKey(name)\n",
        "\n",
        "        if len(infix)==1: #literal, could be like f(x)=x -> ['x']\n",
        "           if (infix[0] in self.graph.keys):\n",
        "            node = next((el for el in self.graph.nodes if el.id == infix[0]), None)\n",
        "            node.addNeighbor(name)\n",
        "            vertex.arg1=node.id\n",
        "           else: # it is a constant\n",
        "            vertex.value=infix[0]\n",
        "\n",
        "\n",
        "        if len(infix)==2: # then it is a function on only one variable, namely the second operation\n",
        "           vertex.operation=infix[0]\n",
        "           #the second node:\n",
        "           if isinstance(infix[1], list):\n",
        "              arg1 = self.recursiveBuilder(infix[1],invars)\n",
        "              node = next((el for el in self.graph.nodes if el.id == arg1), None)\n",
        "              node.addNeighbor(name)\n",
        "              vertex.arg1=arg1\n",
        "\n",
        "           else:\n",
        "            # it is a literal, check if initial variable or constant\n",
        "            if (infix[1] in self.graph.keys):\n",
        "              node = next((el for el in self.graph.nodes if el.id == infix[1]), None)\n",
        "              node.addNeighbor(name)\n",
        "              vertex.arg1=node.id\n",
        "            else: #its a constant\n",
        "              vertex.arg1_val=infix[1]\n",
        "\n",
        "\n",
        "\n",
        "        # more complicated, might need recursion again.\n",
        "        if len(infix)==3:\n",
        "          # process first argument\n",
        "          if isinstance(infix[0], list):\n",
        "              arg1 = self.recursiveBuilder(infix[0],invars)\n",
        "              node = next((el for el in self.graph.nodes if el.id == arg1), None)\n",
        "              node.addNeighbor(name)\n",
        "              vertex.arg1=arg1\n",
        "          else:\n",
        "            # if it is an input variable, make an edge from that variable to this vertex\n",
        "            if (infix[0] in self.graph.keys):\n",
        "              node = next((el for el in self.graph.nodes if el.id == infix[0]), None)\n",
        "              node.addNeighbor(name)\n",
        "              vertex.arg1=infix[0]\n",
        "            else:\n",
        "              #if constant, set second first argument of the vertex to the value\n",
        "              vertex.arg1_val=infix[0]\n",
        "\n",
        "          # store the operation\n",
        "          vertex.operation=infix[1]\n",
        "\n",
        "          #now process the second term\n",
        "          if isinstance(infix[2], list):\n",
        "              arg2 = self.recursiveBuilder(infix[2],invars)\n",
        "              node = next((el for el in self.graph.nodes if el.id == arg2), None)\n",
        "              node.addNeighbor(name)\n",
        "              vertex.arg2 = arg2\n",
        "          else:\n",
        "            # if it is an input variable, make an edge from that variable to this vertex\n",
        "            if (infix[2] in self.graph.keys):\n",
        "              node = next((el for el in self.graph.nodes if el.id == infix[2]), None)\n",
        "              node.addNeighbor(name)\n",
        "              vertex.arg2 = infix[2]\n",
        "            else:\n",
        "              #if constant, set second second argument of the vertex to the value\n",
        "              vertex.arg2_val=infix[2]\n",
        "\n",
        "        return name\n",
        "\n",
        "\n",
        "\n",
        "class Node():\n",
        "    def __init__(self,id):\n",
        "        self.id =id\n",
        "        self.neighbors = []\n",
        "        self.ancestors=[]\n",
        "        self.value=None\n",
        "        self.operation = None\n",
        "        self.arg1 = None\n",
        "        self.arg2 = None\n",
        "        self.arg1_val = None\n",
        "        self.arg2_val = None\n",
        "\n",
        "\n",
        "    def __lt__(self, other):\n",
        "        # Define the comparison based on the 'value' attribute\n",
        "       return self.id < other.id\n",
        "\n",
        "    def addNeighbor(self,id):\n",
        "        if self.neighbors == []:\n",
        "           self.neighbors=[id]\n",
        "        else:\n",
        "          self.neighbors.append(id)\n",
        "\n",
        "    def addAncestor(self,id):\n",
        "        if self.ancestors == []:\n",
        "           self.ancestors=[id]\n",
        "        else:\n",
        "          self.ancestords.append(id)\n",
        "\n",
        "\n",
        "    def setArg(self,value,name):\n",
        "        if self.arg1==name:\n",
        "           self.arg1_val=value\n",
        "        else:\n",
        "           if self.arg2 == name:\n",
        "              self.arg2_val=value\n",
        "           else:\n",
        "            print(name,\" should not point here (\",self.id,\")\")\n",
        "\n",
        "\n",
        "class Graph():\n",
        "    def __init__(self) -> None:\n",
        "        self.n=0\n",
        "        self.nodes=set()\n",
        "        self.keys=set()\n",
        "        self.output_node=None\n",
        "\n",
        "    def addVertex(self,v):\n",
        "        self.nodes.add(v)\n",
        "        self.n=self.n+1\n",
        "    def addKey(self,key):\n",
        "        self.keys.add(key)\n",
        "\n",
        "\n",
        "\n",
        "\n",
        "\n",
        "if __name__ == '__main__':\n",
        "\n",
        "    g = Builder(infix, in_vars)\n",
        "    print(g.graph)"
      ],
      "metadata": {
        "colab": {
          "base_uri": "https://localhost:8080/"
        },
        "id": "gEY0OEr4X2sO",
        "outputId": "257d5979-7f87-4cb8-d85e-1f949040beff"
      },
      "execution_count": null,
      "outputs": [
        {
          "output_type": "stream",
          "name": "stdout",
          "text": [
            "<__main__.Graph object at 0x79e71e2404f0>\n"
          ]
        }
      ]
    },
    {
      "cell_type": "code",
      "source": [
        "#@title ToDo2: Operations\n",
        "\n",
        "class Operator(ABC):\n",
        "\n",
        "    @abstractmethod\n",
        "    def f(self, a, b = None) -> float:\n",
        "        raise NotImplementedError()\n",
        "        return f_res\n",
        "\n",
        "    @abstractmethod\n",
        "    def df(self, a, b = None) -> list:\n",
        "        raise NotImplementedError()\n",
        "        return [df_res]\n",
        "\n",
        "class Exp(Operator):\n",
        "\n",
        "    def f(self, a, b = None):\n",
        "        return math.exp(a)\n",
        "\n",
        "    def df(self, a, b = None):\n",
        "        return [math.exp(a)]\n",
        "\n",
        "class Log(Operator):\n",
        "    ## natural logarithm\n",
        "\n",
        "    def f(self, a, b = None):\n",
        "        return math.log(a)\n",
        "\n",
        "    def df(self, a, b = None):\n",
        "        return 1.0/a\n",
        "\n",
        "class Mult(Operator):\n",
        "\n",
        "    def f(self, a, b):\n",
        "        return a * b\n",
        "\n",
        "    def df(self, a, b=None):\n",
        "        return [b, a]\n",
        "\n",
        "class Div(Operator):\n",
        "\n",
        "    def f(self, a, b):\n",
        "        return a/b\n",
        "\n",
        "    def df(self, a, b):\n",
        "        return [1/b, -a/(b ** 2)]\n",
        "\n",
        "class Add(Operator):\n",
        "\n",
        "    def f(self, a, b):\n",
        "        return a+b\n",
        "\n",
        "    def df(self, a, b = None):\n",
        "        return 1\n",
        "\n",
        "class Sub(Operator):\n",
        "\n",
        "    def f(self, a, b = None):\n",
        "        return a-b\n",
        "\n",
        "    def df(self, a, b = None):\n",
        "        return -1\n",
        "\n",
        "class Pow(Operator):\n",
        "\n",
        "    def f(self, a, b):\n",
        "        return a**b\n",
        "\n",
        "    def df(self, a, b):\n",
        "        if a <= 0: ## work-around: treat as unary operation if -a^b\n",
        "            return [b * (a ** (b - 1))]\n",
        "        else:\n",
        "            return [b * (a ** (b - 1)), (a ** b) * math.log(a)]\n",
        "\n",
        "class Sin(Operator):\n",
        "\n",
        "    def f(self, a, b=None):\n",
        "        return math.sin(a)\n",
        "\n",
        "    def df(self, a, b=None):\n",
        "        return math.cos(a)\n",
        "\n",
        "class Cos(Operator):\n",
        "\n",
        "    def f(self, a, b=None):\n",
        "        return math.cos(a)\n",
        "\n",
        "    def df(self, a, b=None):\n",
        "        return -math.sin(a)"
      ],
      "metadata": {
        "id": "FqYDZ0rvZQVr"
      },
      "execution_count": null,
      "outputs": []
    },
    {
      "cell_type": "code",
      "source": [
        "#@title ToDo 3: Executing\n",
        "\n",
        "class Executor():\n",
        "\n",
        "    def __init__(self, graph: dict, in_vars: dict = {}):\n",
        "        \"\"\"\n",
        "        graph: computation graph in a data structure of your choosing\n",
        "        in_vars: dict of input variables, e.g. {\"x\": 2.0, \"y\": -1.0}\n",
        "        \"\"\"\n",
        "        self.graph = graph\n",
        "        self.in_vars = in_vars\n",
        "        self.fn_map = {\"log\": Log(), \"exp\": Exp(), \"+\": Add(), \"-\": Sub(), \"^\": Pow(), \"sin\": Sin(), \"cos\": Cos(), \"*\": Mult(), \"/\": Div()}\n",
        "        self.output = -1\n",
        "        self.derivative = {}\n",
        "\n",
        "    ## forward execution____________________________\n",
        "\n",
        "    def forward(self, ):\n",
        "        in_vars_nodes = {el for el in self.graph.nodes if el.id in in_vars}\n",
        "\n",
        "        for el in self.in_vars:\n",
        "          node = next((no for no in in_vars_nodes if no.id == el), None)\n",
        "          value=self.in_vars[el]\n",
        "          node.value=value\n",
        "          for neighbor in node.neighbors:\n",
        "             neighbor_node=next((no for no in self.graph.nodes if no.id == neighbor), None)\n",
        "             neighbor_node.setArg(value,el)\n",
        "\n",
        "        #now that we updated the in variables, work on the rest in back to front order\n",
        "        nodes_without_in_vars = self.graph.keys-in_vars.keys()\n",
        "        sorted_nodes = sorted(nodes_without_in_vars, reverse=True)\n",
        "\n",
        "\n",
        "        for i in range(len(sorted_nodes)):\n",
        "          node = next((el for el in self.graph.nodes if el.id ==sorted_nodes[i]),None)\n",
        "          fn = self.fn_map[node.operation]\n",
        "          node.value = fn.f(node.arg1_val,node.arg2_val)\n",
        "\n",
        "          for neighbor in node.neighbors:\n",
        "             neighbor_node=next((no for no in self.graph.nodes if no.id == neighbor), None)\n",
        "             neighbor_node.setArg(node.value,node.id)\n",
        "\n",
        "        self.output= self.graph.output_node.value\n",
        "\n",
        "\n",
        "    ## backward execution____________________________\n",
        "\n",
        "    def backward(self, ):\n",
        "        nodes_without_in_vars = self.graph.keys-in_vars.keys()\n",
        "        sorted_nodes = sorted(nodes_without_in_vars, reverse=False)\n",
        "        for i in range(len(sorted_nodes)-1):\n",
        "          node = sorted_nodes[i]\n",
        "\n",
        "        self.derivative = {}\n",
        "\n",
        "\n",
        "if __name__ == '__main__':\n",
        "  e = Executor(g.graph, in_vars=in_vars)\n",
        "  e.forward()\n",
        "  e.backward()\n",
        "  print(e.output)\n",
        "  print(e.derivative)"
      ],
      "metadata": {
        "colab": {
          "base_uri": "https://localhost:8080/"
        },
        "id": "l965tc0PZD1y",
        "outputId": "c9e5153f-7bac-4b58-a79f-b12972855fcd"
      },
      "execution_count": null,
      "outputs": [
        {
          "output_type": "stream",
          "name": "stdout",
          "text": [
            "75.0\n",
            "{}\n"
          ]
        }
      ]
    },
    {
      "cell_type": "code",
      "source": [
        "#@title Test Function for Debugging [do not change]\n",
        "\n",
        "utils.test_backprop(Builder, Executor, math_problem)"
      ],
      "metadata": {
        "colab": {
          "base_uri": "https://localhost:8080/"
        },
        "cellView": "form",
        "id": "lw-g9g_Avox_",
        "outputId": "2f534222-e189-42af-94d1-7a1a8ed068f4"
      },
      "execution_count": null,
      "outputs": [
        {
          "output_type": "stream",
          "name": "stdout",
          "text": [
            "\n",
            "0: problem: (x^2 - 1) * (y+3), in_vars: {'x': 4.0, 'y': 2.0}\n",
            "SUCCESS output: 75.0\n",
            "FAILURE derivative: {} != {'x': 40.0, 'y': 15.0}\n"
          ]
        }
      ]
    },
    {
      "cell_type": "code",
      "source": [
        "#@title Test Function for Grading [do not change]\n",
        "\n",
        "utils.test_backprop(Builder, Executor)"
      ],
      "metadata": {
        "colab": {
          "base_uri": "https://localhost:8080/",
          "height": 555
        },
        "cellView": "form",
        "id": "d4qAd9lBtSmX",
        "outputId": "c592e029-d1db-42d7-9ef2-39b05c9cb65e"
      },
      "execution_count": null,
      "outputs": [
        {
          "output_type": "stream",
          "name": "stdout",
          "text": [
            "\n",
            "0: problem: x/y, in_vars: {'x': 2.0, 'y': 4.0}\n",
            "SUCCESS output: 0.5\n",
            "FAILURE derivative: {} != {'x': 0.25, 'y': -0.125}\n",
            "\n",
            "1: problem: exp(x) - (y * 4), in_vars: {'x': 3.0, 'y': 3.0}\n",
            "SUCCESS output: 8.09\n",
            "FAILURE derivative: {} != {'x': 20.09, 'y': -4.0}\n",
            "\n",
            "2: problem: (x^2 - 1) * (y+3), in_vars: {'x': 4.0, 'y': 2.0}\n",
            "SUCCESS output: 75.0\n",
            "FAILURE derivative: {} != {'x': 40.0, 'y': 15.0}\n"
          ]
        },
        {
          "output_type": "error",
          "ename": "AttributeError",
          "evalue": "ignored",
          "traceback": [
            "\u001b[0;31m---------------------------------------------------------------------------\u001b[0m",
            "\u001b[0;31mAttributeError\u001b[0m                            Traceback (most recent call last)",
            "\u001b[0;32m<ipython-input-188-38b6cfd09bc8>\u001b[0m in \u001b[0;36m<cell line: 3>\u001b[0;34m()\u001b[0m\n\u001b[1;32m      1\u001b[0m \u001b[0;31m#@title Test Function for Grading [do not change]\u001b[0m\u001b[0;34m\u001b[0m\u001b[0;34m\u001b[0m\u001b[0m\n\u001b[1;32m      2\u001b[0m \u001b[0;34m\u001b[0m\u001b[0m\n\u001b[0;32m----> 3\u001b[0;31m \u001b[0mutils\u001b[0m\u001b[0;34m.\u001b[0m\u001b[0mtest_backprop\u001b[0m\u001b[0;34m(\u001b[0m\u001b[0mBuilder\u001b[0m\u001b[0;34m,\u001b[0m \u001b[0mExecutor\u001b[0m\u001b[0;34m)\u001b[0m\u001b[0;34m\u001b[0m\u001b[0;34m\u001b[0m\u001b[0m\n\u001b[0m",
            "\u001b[0;32m/content/intro-nlp-f23/assignment_1/utils.py\u001b[0m in \u001b[0;36mtest_backprop\u001b[0;34m(Builder, Executor, math_problems)\u001b[0m\n\u001b[1;32m    122\u001b[0m         \u001b[0;31m## your method should set float output: x and dict derivative: {'y': -1.0, 'x': 1.0}\u001b[0m\u001b[0;34m\u001b[0m\u001b[0;34m\u001b[0m\u001b[0m\n\u001b[1;32m    123\u001b[0m         \u001b[0me\u001b[0m \u001b[0;34m=\u001b[0m \u001b[0mExecutor\u001b[0m\u001b[0;34m(\u001b[0m\u001b[0mgraph\u001b[0m \u001b[0;34m=\u001b[0m \u001b[0mb\u001b[0m\u001b[0;34m.\u001b[0m\u001b[0mgraph\u001b[0m\u001b[0;34m,\u001b[0m \u001b[0min_vars\u001b[0m\u001b[0;34m=\u001b[0m\u001b[0min_vars\u001b[0m\u001b[0;34m)\u001b[0m\u001b[0;34m\u001b[0m\u001b[0;34m\u001b[0m\u001b[0m\n\u001b[0;32m--> 124\u001b[0;31m         \u001b[0me\u001b[0m\u001b[0;34m.\u001b[0m\u001b[0mforward\u001b[0m\u001b[0;34m(\u001b[0m\u001b[0;34m)\u001b[0m\u001b[0;34m\u001b[0m\u001b[0;34m\u001b[0m\u001b[0m\n\u001b[0m\u001b[1;32m    125\u001b[0m         \u001b[0me\u001b[0m\u001b[0;34m.\u001b[0m\u001b[0mbackward\u001b[0m\u001b[0;34m(\u001b[0m\u001b[0;34m)\u001b[0m\u001b[0;34m\u001b[0m\u001b[0;34m\u001b[0m\u001b[0m\n\u001b[1;32m    126\u001b[0m \u001b[0;34m\u001b[0m\u001b[0m\n",
            "\u001b[0;32m<ipython-input-187-c5658de15e54>\u001b[0m in \u001b[0;36mforward\u001b[0;34m(self)\u001b[0m\n\u001b[1;32m     22\u001b[0m           \u001b[0mnode\u001b[0m \u001b[0;34m=\u001b[0m \u001b[0mnext\u001b[0m\u001b[0;34m(\u001b[0m\u001b[0;34m(\u001b[0m\u001b[0mno\u001b[0m \u001b[0;32mfor\u001b[0m \u001b[0mno\u001b[0m \u001b[0;32min\u001b[0m \u001b[0min_vars_nodes\u001b[0m \u001b[0;32mif\u001b[0m \u001b[0mno\u001b[0m\u001b[0;34m.\u001b[0m\u001b[0mid\u001b[0m \u001b[0;34m==\u001b[0m \u001b[0mel\u001b[0m\u001b[0;34m)\u001b[0m\u001b[0;34m,\u001b[0m \u001b[0;32mNone\u001b[0m\u001b[0;34m)\u001b[0m\u001b[0;34m\u001b[0m\u001b[0;34m\u001b[0m\u001b[0m\n\u001b[1;32m     23\u001b[0m           \u001b[0mvalue\u001b[0m\u001b[0;34m=\u001b[0m\u001b[0mself\u001b[0m\u001b[0;34m.\u001b[0m\u001b[0min_vars\u001b[0m\u001b[0;34m[\u001b[0m\u001b[0mel\u001b[0m\u001b[0;34m]\u001b[0m\u001b[0;34m\u001b[0m\u001b[0;34m\u001b[0m\u001b[0m\n\u001b[0;32m---> 24\u001b[0;31m           \u001b[0mnode\u001b[0m\u001b[0;34m.\u001b[0m\u001b[0mvalue\u001b[0m\u001b[0;34m=\u001b[0m\u001b[0mvalue\u001b[0m\u001b[0;34m\u001b[0m\u001b[0;34m\u001b[0m\u001b[0m\n\u001b[0m\u001b[1;32m     25\u001b[0m           \u001b[0;32mfor\u001b[0m \u001b[0mneighbor\u001b[0m \u001b[0;32min\u001b[0m \u001b[0mnode\u001b[0m\u001b[0;34m.\u001b[0m\u001b[0mneighbors\u001b[0m\u001b[0;34m:\u001b[0m\u001b[0;34m\u001b[0m\u001b[0;34m\u001b[0m\u001b[0m\n\u001b[1;32m     26\u001b[0m              \u001b[0mneighbor_node\u001b[0m\u001b[0;34m=\u001b[0m\u001b[0mnext\u001b[0m\u001b[0;34m(\u001b[0m\u001b[0;34m(\u001b[0m\u001b[0mno\u001b[0m \u001b[0;32mfor\u001b[0m \u001b[0mno\u001b[0m \u001b[0;32min\u001b[0m \u001b[0mself\u001b[0m\u001b[0;34m.\u001b[0m\u001b[0mgraph\u001b[0m\u001b[0;34m.\u001b[0m\u001b[0mnodes\u001b[0m \u001b[0;32mif\u001b[0m \u001b[0mno\u001b[0m\u001b[0;34m.\u001b[0m\u001b[0mid\u001b[0m \u001b[0;34m==\u001b[0m \u001b[0mneighbor\u001b[0m\u001b[0;34m)\u001b[0m\u001b[0;34m,\u001b[0m \u001b[0;32mNone\u001b[0m\u001b[0;34m)\u001b[0m\u001b[0;34m\u001b[0m\u001b[0;34m\u001b[0m\u001b[0m\n",
            "\u001b[0;31mAttributeError\u001b[0m: 'NoneType' object has no attribute 'value'"
          ]
        }
      ]
    },
    {
      "cell_type": "code",
      "source": [],
      "metadata": {
        "id": "uhPtpwnguoCL"
      },
      "execution_count": null,
      "outputs": []
    }
  ]
}